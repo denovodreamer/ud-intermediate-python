{
 "cells": [
  {
   "cell_type": "markdown",
   "id": "4de0067d-fadb-48ba-a3ad-99cee5ee47be",
   "metadata": {},
   "source": [
    " "
   ]
  },
  {
   "cell_type": "markdown",
   "id": "3ead08be-78a3-447d-8d15-09cd656d9198",
   "metadata": {},
   "source": [
    " "
   ]
  },
  {
   "cell_type": "markdown",
   "id": "3da1b52f-f5e1-47ce-bd15-a3e3e73fbf47",
   "metadata": {},
   "source": [
    " "
   ]
  },
  {
   "cell_type": "markdown",
   "id": "ed4e95b1-f5f2-4307-bbde-cf09838dce40",
   "metadata": {},
   "source": [
    " "
   ]
  },
  {
   "cell_type": "markdown",
   "id": "2b52c24c-a0b3-4164-8703-bb57e407171a",
   "metadata": {},
   "source": [
    " "
   ]
  },
  {
   "cell_type": "markdown",
   "id": "9d702051-ee9d-4736-b8a4-d2d1d34c4960",
   "metadata": {},
   "source": [
    " "
   ]
  },
  {
   "cell_type": "code",
   "execution_count": 1,
   "id": "50712fae-5576-43b4-97dc-c8e14ff6e8ca",
   "metadata": {},
   "outputs": [],
   "source": [
    "from PIL import Image, ImageDraw, ImageFont"
   ]
  },
  {
   "cell_type": "markdown",
   "id": "809bf481-8147-4d0b-bbd9-66721f560d29",
   "metadata": {},
   "source": [
    " "
   ]
  },
  {
   "cell_type": "markdown",
   "id": "713b86a4-d47c-468d-9843-c767ce0131a3",
   "metadata": {},
   "source": [
    " "
   ]
  },
  {
   "cell_type": "code",
   "execution_count": 2,
   "id": "366581b7-fbcf-48d5-8c30-68ca1379bcdc",
   "metadata": {},
   "outputs": [],
   "source": [
    "width = 500\n",
    "path = '../_data/photos/dog/xander_2.jpg'"
   ]
  },
  {
   "cell_type": "markdown",
   "id": "f79497a0-ad70-4730-bb68-1d5afff1abf4",
   "metadata": {},
   "source": [
    " "
   ]
  },
  {
   "cell_type": "markdown",
   "id": "e3568b79-0d50-4781-b1ef-70afd4b25e2f",
   "metadata": {},
   "source": [
    " "
   ]
  },
  {
   "cell_type": "markdown",
   "id": "8c7ab47f-0a4c-4378-9fcf-005ca821da15",
   "metadata": {},
   "source": [
    " "
   ]
  },
  {
   "cell_type": "markdown",
   "id": "7c0735b6-2d89-4104-a4e0-05007a61fc3e",
   "metadata": {},
   "source": [
    " "
   ]
  },
  {
   "cell_type": "code",
   "execution_count": 11,
   "id": "144fcc73-0185-4162-9409-4f690972ec7f",
   "metadata": {},
   "outputs": [],
   "source": [
    "img = Image.open(path)\n",
    "\n",
    "ratio = width / float(img.size[0])\n",
    "height = int(ratio * float(img.size[1]))\n",
    "new_size = (width, height)\n",
    "\n",
    "img = img.resize(new_size, Image.NEAREST)\n"
   ]
  },
  {
   "cell_type": "markdown",
   "id": "7df2adca-8d9a-4bf2-8db8-f57bbb4cdb99",
   "metadata": {},
   "source": [
    " "
   ]
  },
  {
   "cell_type": "markdown",
   "id": "8ec92635-8fc0-4eee-93f3-8a4d03701b07",
   "metadata": {},
   "source": [
    " "
   ]
  },
  {
   "cell_type": "markdown",
   "id": "5d9b4cb2-d6a4-4192-b6b7-08f27b279952",
   "metadata": {},
   "source": [
    " "
   ]
  },
  {
   "cell_type": "code",
   "execution_count": 39,
   "id": "d4b5898a-14c3-4804-ad74-66b289a77a2a",
   "metadata": {},
   "outputs": [],
   "source": [
    "\n",
    "\n",
    "text = \"Your Text Here\"\n",
    "font = ImageFont.load_default()\n",
    "\n",
    "\n",
    "font = ImageFont.truetype('./fonts/Arial.ttf', size=20)\n",
    "draw.text((10, 30), \"message\", font=font, fill='white')\n",
    "\n",
    "img.save(\"./fig.jpg\")"
   ]
  },
  {
   "cell_type": "markdown",
   "id": "4b838c5d-224a-48d2-bc56-dbeb49f96418",
   "metadata": {},
   "source": [
    " "
   ]
  },
  {
   "cell_type": "markdown",
   "id": "739f541f-e5f3-4783-8a5e-d7e0f4cce667",
   "metadata": {},
   "source": [
    " "
   ]
  },
  {
   "cell_type": "markdown",
   "id": "f06d59ab-1ae9-47f5-bd99-f10d5c5cd353",
   "metadata": {},
   "source": [
    " "
   ]
  },
  {
   "cell_type": "markdown",
   "id": "426e9d45-7f1b-4faa-96c5-6ea8bb08625c",
   "metadata": {},
   "source": [
    " "
   ]
  },
  {
   "cell_type": "code",
   "execution_count": 15,
   "id": "9e1bd4c7-06b0-4df1-af99-5b6c84c56a63",
   "metadata": {},
   "outputs": [],
   "source": [
    "\n",
    "import random\n",
    "\n",
    "text = \"Your Text Here\"\n",
    "font = ImageFont.load_default()\n",
    "\n",
    "\n",
    "font = ImageFont.truetype('./fonts/Arial.ttf', size=20)\n",
    "draw.text((10, 30), \"message\", font=font, fill='white')\n",
    "\n",
    "draw = ImageDraw.Draw(img)\n",
    "\n",
    "# Define the text and font\n",
    "quote_str = \"Your Text Here\"\n",
    "\n",
    "\n",
    "font_name = \"../fonts/arial.ttf\" \n",
    "font_size = 20 \n",
    "font = ImageFont.truetype(font_name, font_size)\n",
    "\n",
    "\n",
    "# Get the text size\n",
    "text_bbox = draw.textbbox((0, 0), quote_str, font=font)\n",
    "text_width = text_bbox[2] - text_bbox[0]\n",
    "text_height = text_bbox[3] - text_bbox[1]\n",
    "\n",
    "# Center position\n",
    "text_x = (img.width - text_width) // 2\n",
    "text_y = (img.height - text_height) // 2\n",
    "\n",
    "# Add random position within the image\n",
    "text_x += random.randint(-100, 100)\n",
    "text_y += random.randint(-100, 100)\n",
    "\n",
    "# Add text to the image\n",
    "draw.text((text_x , text_y), quote_str, font=font, fill=\"white\")\n",
    "\n",
    "# Show the image\n",
    "img.show()"
   ]
  },
  {
   "cell_type": "markdown",
   "id": "546275e9-97ab-4416-89ee-0e71a4bfe13a",
   "metadata": {},
   "source": [
    " "
   ]
  },
  {
   "cell_type": "markdown",
   "id": "6a9a05f3-ba02-4881-ab06-6ecbc4eaa57b",
   "metadata": {},
   "source": [
    " "
   ]
  },
  {
   "cell_type": "markdown",
   "id": "eb4567e2-02f7-4033-b39c-0ec11c856e38",
   "metadata": {},
   "source": [
    " "
   ]
  },
  {
   "cell_type": "markdown",
   "id": "34368026-3446-40ca-abce-49b6c5176672",
   "metadata": {},
   "source": [
    " "
   ]
  },
  {
   "cell_type": "code",
   "execution_count": 9,
   "id": "7a260263-ca4c-4089-8cb4-0d62de509998",
   "metadata": {},
   "outputs": [
    {
     "data": {
      "text/plain": [
       "91"
      ]
     },
     "execution_count": 9,
     "metadata": {},
     "output_type": "execute_result"
    }
   ],
   "source": [
    "random.randint(1, 100)"
   ]
  },
  {
   "cell_type": "markdown",
   "id": "65c6c202-7712-4927-a86a-940ec2442a89",
   "metadata": {},
   "source": [
    " "
   ]
  },
  {
   "cell_type": "markdown",
   "id": "0b56d521-132d-4ed6-a976-a8af7487a364",
   "metadata": {},
   "source": [
    " "
   ]
  },
  {
   "cell_type": "markdown",
   "id": "45050d4b-afe4-4e40-8c9c-3475e823659e",
   "metadata": {},
   "source": [
    " "
   ]
  },
  {
   "cell_type": "markdown",
   "id": "d2e5ea3e-88fa-4146-a0a8-3614e0629c40",
   "metadata": {},
   "source": [
    " "
   ]
  },
  {
   "cell_type": "markdown",
   "id": "355ad839-57ad-4198-a5d4-a8774c2dec3b",
   "metadata": {},
   "source": [
    " "
   ]
  },
  {
   "cell_type": "code",
   "execution_count": null,
   "id": "c55781b2-7660-4ab0-8f2b-bf0d9ecf7112",
   "metadata": {},
   "outputs": [],
   "source": []
  },
  {
   "cell_type": "markdown",
   "id": "3ba8207b-f4df-49ad-af37-e487268d8304",
   "metadata": {},
   "source": [
    " "
   ]
  },
  {
   "cell_type": "markdown",
   "id": "9b0908fa-397e-478e-88dc-de367c8a540d",
   "metadata": {},
   "source": [
    " "
   ]
  },
  {
   "cell_type": "markdown",
   "id": "b9bf388d-2cf8-4c2c-b016-f7c80e40c893",
   "metadata": {},
   "source": [
    " "
   ]
  },
  {
   "cell_type": "markdown",
   "id": "610f6e63-a2c4-4560-977c-e85d46e7171f",
   "metadata": {},
   "source": [
    " "
   ]
  },
  {
   "cell_type": "markdown",
   "id": "97296c6e-ae0b-4aea-85a2-4c052d188c61",
   "metadata": {},
   "source": [
    " "
   ]
  },
  {
   "cell_type": "markdown",
   "id": "e2a20b1c-6e2f-41e2-bff3-22dc3038a971",
   "metadata": {},
   "source": [
    " "
   ]
  },
  {
   "cell_type": "markdown",
   "id": "66056273-1ed9-406d-b516-4d1e0f38a0df",
   "metadata": {},
   "source": [
    " "
   ]
  },
  {
   "cell_type": "markdown",
   "id": "12294126-f07a-49f7-86f3-6fce4bdb5492",
   "metadata": {},
   "source": [
    " "
   ]
  },
  {
   "cell_type": "markdown",
   "id": "09c00075-414d-4329-876a-794d797cf23f",
   "metadata": {},
   "source": [
    " "
   ]
  },
  {
   "cell_type": "markdown",
   "id": "bd9ed8c5-9d64-4cb4-bc16-b0110b0c59be",
   "metadata": {},
   "source": [
    " "
   ]
  },
  {
   "cell_type": "markdown",
   "id": "c164c00d-c974-4e9f-b935-015aaf34c30b",
   "metadata": {},
   "source": [
    " "
   ]
  },
  {
   "cell_type": "markdown",
   "id": "8983f621-f1a1-4b45-ac61-3d9c3c0c4e04",
   "metadata": {},
   "source": [
    " "
   ]
  },
  {
   "cell_type": "markdown",
   "id": "3194908e-dc04-4ef5-a932-b1cd6c68855f",
   "metadata": {},
   "source": [
    " "
   ]
  },
  {
   "cell_type": "markdown",
   "id": "96bbf5d9-125f-4dce-a47b-f73d1ba9e9bb",
   "metadata": {},
   "source": [
    " "
   ]
  },
  {
   "cell_type": "markdown",
   "id": "012db1b6-5ea8-4884-8351-755f8387432f",
   "metadata": {},
   "source": [
    " "
   ]
  },
  {
   "cell_type": "markdown",
   "id": "0b946e73-3a17-470a-8888-af48e8785227",
   "metadata": {},
   "source": [
    " "
   ]
  },
  {
   "cell_type": "markdown",
   "id": "668a7633-480a-41ec-8285-0bb0b5aa4c76",
   "metadata": {},
   "source": [
    " "
   ]
  },
  {
   "cell_type": "markdown",
   "id": "159f3e4a-016e-475c-bffa-65dae66496aa",
   "metadata": {},
   "source": [
    " "
   ]
  },
  {
   "cell_type": "markdown",
   "id": "0ae18216-9b79-4069-9b9c-8c094c3189a2",
   "metadata": {},
   "source": [
    " "
   ]
  },
  {
   "cell_type": "markdown",
   "id": "2a713038-55a1-4bd3-aae4-649b8816fec9",
   "metadata": {},
   "source": [
    " "
   ]
  },
  {
   "cell_type": "markdown",
   "id": "05ae33d7-8924-466e-be5e-7cecc3d9a2cd",
   "metadata": {},
   "source": [
    " "
   ]
  },
  {
   "cell_type": "markdown",
   "id": "f3e43f45-1bc6-4187-855c-4fc779237162",
   "metadata": {},
   "source": [
    " "
   ]
  },
  {
   "cell_type": "markdown",
   "id": "919def31-5082-45f7-b694-69dacfef1a7e",
   "metadata": {},
   "source": [
    " "
   ]
  },
  {
   "cell_type": "markdown",
   "id": "bfa0d30f-578b-43af-9855-ffabe6f5ce4f",
   "metadata": {},
   "source": [
    " "
   ]
  },
  {
   "cell_type": "markdown",
   "id": "2964d993-0450-474d-a519-acf6e7c42f4f",
   "metadata": {},
   "source": [
    " "
   ]
  },
  {
   "cell_type": "markdown",
   "id": "e3780e21-edf7-4b5f-bf68-a5e7c483a248",
   "metadata": {},
   "source": [
    " "
   ]
  },
  {
   "cell_type": "markdown",
   "id": "d9ca7e1f-5504-432e-9927-0b0250be1968",
   "metadata": {},
   "source": [
    " "
   ]
  },
  {
   "cell_type": "markdown",
   "id": "66434b23-8733-40d8-a98d-881973effb42",
   "metadata": {},
   "source": [
    " "
   ]
  },
  {
   "cell_type": "markdown",
   "id": "25e08887-42d5-4c36-a885-376b10f88344",
   "metadata": {},
   "source": [
    " "
   ]
  },
  {
   "cell_type": "markdown",
   "id": "65f8f383-25c6-4d34-927a-7b3cef7ee20d",
   "metadata": {},
   "source": [
    " "
   ]
  },
  {
   "cell_type": "markdown",
   "id": "8948338f-0382-4dde-b399-47ebe8131eec",
   "metadata": {},
   "source": [
    " "
   ]
  },
  {
   "cell_type": "markdown",
   "id": "4cd03ffc-bb83-4814-9a79-4eba5bb4e3bb",
   "metadata": {},
   "source": [
    " "
   ]
  },
  {
   "cell_type": "markdown",
   "id": "d8157963-a50e-4d71-a418-bbb45cfabbcf",
   "metadata": {},
   "source": [
    " "
   ]
  },
  {
   "cell_type": "markdown",
   "id": "ff10cfdd-7e0d-4f90-aa4f-6cde9e878857",
   "metadata": {},
   "source": [
    " "
   ]
  },
  {
   "cell_type": "markdown",
   "id": "3237dba8-70d1-4a39-a648-867e27cbc20d",
   "metadata": {},
   "source": [
    " "
   ]
  },
  {
   "cell_type": "markdown",
   "id": "510dc8be-3734-45c8-b46c-3d40ef7ede07",
   "metadata": {},
   "source": [
    " "
   ]
  },
  {
   "cell_type": "markdown",
   "id": "226b8b15-5f6c-4c46-993f-a1f636b814f3",
   "metadata": {},
   "source": [
    " "
   ]
  }
 ],
 "metadata": {
  "kernelspec": {
   "display_name": "projects",
   "language": "python",
   "name": "projects"
  },
  "language_info": {
   "codemirror_mode": {
    "name": "ipython",
    "version": 3
   },
   "file_extension": ".py",
   "mimetype": "text/x-python",
   "name": "python",
   "nbconvert_exporter": "python",
   "pygments_lexer": "ipython3",
   "version": "3.11.7"
  }
 },
 "nbformat": 4,
 "nbformat_minor": 5
}
