{
 "cells": [
  {
   "cell_type": "markdown",
   "id": "4de0067d-fadb-48ba-a3ad-99cee5ee47be",
   "metadata": {},
   "source": [
    " "
   ]
  },
  {
   "cell_type": "markdown",
   "id": "3ead08be-78a3-447d-8d15-09cd656d9198",
   "metadata": {},
   "source": [
    " "
   ]
  },
  {
   "cell_type": "markdown",
   "id": "3da1b52f-f5e1-47ce-bd15-a3e3e73fbf47",
   "metadata": {},
   "source": [
    " "
   ]
  },
  {
   "cell_type": "markdown",
   "id": "ed4e95b1-f5f2-4307-bbde-cf09838dce40",
   "metadata": {},
   "source": [
    " "
   ]
  },
  {
   "cell_type": "markdown",
   "id": "2b52c24c-a0b3-4164-8703-bb57e407171a",
   "metadata": {},
   "source": [
    " "
   ]
  },
  {
   "cell_type": "markdown",
   "id": "9d702051-ee9d-4736-b8a4-d2d1d34c4960",
   "metadata": {},
   "source": [
    " "
   ]
  },
  {
   "cell_type": "code",
   "execution_count": 1,
   "id": "50712fae-5576-43b4-97dc-c8e14ff6e8ca",
   "metadata": {},
   "outputs": [],
   "source": [
    "import pandas as pd"
   ]
  },
  {
   "cell_type": "markdown",
   "id": "809bf481-8147-4d0b-bbd9-66721f560d29",
   "metadata": {},
   "source": [
    " "
   ]
  },
  {
   "cell_type": "markdown",
   "id": "713b86a4-d47c-468d-9843-c767ce0131a3",
   "metadata": {},
   "source": [
    " "
   ]
  },
  {
   "cell_type": "markdown",
   "id": "426e9d45-7f1b-4faa-96c5-6ea8bb08625c",
   "metadata": {},
   "source": [
    " "
   ]
  },
  {
   "cell_type": "code",
   "execution_count": 3,
   "id": "9e1bd4c7-06b0-4df1-af99-5b6c84c56a63",
   "metadata": {},
   "outputs": [],
   "source": [
    "df = pd.read_csv('../_data/DogQuotes/DogQuotesCSV.csv')"
   ]
  },
  {
   "cell_type": "markdown",
   "id": "0cc945ec-0c46-477c-9155-febd8c9f7c3e",
   "metadata": {},
   "source": [
    " "
   ]
  },
  {
   "cell_type": "markdown",
   "id": "f6196410-9568-4045-b5e3-cf350245a311",
   "metadata": {},
   "source": [
    " "
   ]
  },
  {
   "cell_type": "markdown",
   "id": "18e16a91-c412-4f53-bd64-13f0e86a57e6",
   "metadata": {},
   "source": [
    " "
   ]
  },
  {
   "cell_type": "markdown",
   "id": "99ce68fa-2eb6-48e5-b747-9cd8a1544ae0",
   "metadata": {},
   "source": [
    " "
   ]
  },
  {
   "cell_type": "code",
   "execution_count": 4,
   "id": "18caa949-f62e-4a2f-b4ee-9099cfeb1158",
   "metadata": {},
   "outputs": [
    {
     "data": {
      "text/html": [
       "<div>\n",
       "<style scoped>\n",
       "    .dataframe tbody tr th:only-of-type {\n",
       "        vertical-align: middle;\n",
       "    }\n",
       "\n",
       "    .dataframe tbody tr th {\n",
       "        vertical-align: top;\n",
       "    }\n",
       "\n",
       "    .dataframe thead th {\n",
       "        text-align: right;\n",
       "    }\n",
       "</style>\n",
       "<table border=\"1\" class=\"dataframe\">\n",
       "  <thead>\n",
       "    <tr style=\"text-align: right;\">\n",
       "      <th></th>\n",
       "      <th>body</th>\n",
       "      <th>author</th>\n",
       "    </tr>\n",
       "  </thead>\n",
       "  <tbody>\n",
       "    <tr>\n",
       "      <th>0</th>\n",
       "      <td>Chase the mailman</td>\n",
       "      <td>Skittle</td>\n",
       "    </tr>\n",
       "    <tr>\n",
       "      <th>1</th>\n",
       "      <td>When in doubt, go shoe-shopping</td>\n",
       "      <td>Mr. Paws</td>\n",
       "    </tr>\n",
       "  </tbody>\n",
       "</table>\n",
       "</div>"
      ],
      "text/plain": [
       "                              body    author\n",
       "0                Chase the mailman   Skittle\n",
       "1  When in doubt, go shoe-shopping  Mr. Paws"
      ]
     },
     "execution_count": 4,
     "metadata": {},
     "output_type": "execute_result"
    }
   ],
   "source": [
    "df"
   ]
  },
  {
   "cell_type": "markdown",
   "id": "b486ff8f-d702-444b-9cc1-400a27af922a",
   "metadata": {},
   "source": [
    " "
   ]
  },
  {
   "cell_type": "markdown",
   "id": "e606da03-e882-4376-adaf-925687f444c0",
   "metadata": {},
   "source": [
    " "
   ]
  },
  {
   "cell_type": "code",
   "execution_count": 6,
   "id": "390e1fd9-fdee-41e4-83c5-49d66fdf40f2",
   "metadata": {},
   "outputs": [
    {
     "ename": "NameError",
     "evalue": "name 'QuoteModel' is not defined",
     "output_type": "error",
     "traceback": [
      "\u001b[0;31m---------------------------------------------------------------------------\u001b[0m",
      "\u001b[0;31mNameError\u001b[0m                                 Traceback (most recent call last)",
      "Cell \u001b[0;32mIn[6], line 3\u001b[0m\n\u001b[1;32m      1\u001b[0m quotes \u001b[38;5;241m=\u001b[39m []\n\u001b[1;32m      2\u001b[0m \u001b[38;5;28;01mfor\u001b[39;00m _, text \u001b[38;5;129;01min\u001b[39;00m df\u001b[38;5;241m.\u001b[39miterrows():\n\u001b[0;32m----> 3\u001b[0m     quote \u001b[38;5;241m=\u001b[39m \u001b[43mQuoteModel\u001b[49m(\u001b[38;5;124m'\u001b[39m\u001b[38;5;124mbody\u001b[39m\u001b[38;5;124m'\u001b[39m, \u001b[38;5;124m'\u001b[39m\u001b[38;5;124mauthor\u001b[39m\u001b[38;5;124m'\u001b[39m)\n\u001b[1;32m      4\u001b[0m     quotes\u001b[38;5;241m.\u001b[39mappend(quote)\n",
      "\u001b[0;31mNameError\u001b[0m: name 'QuoteModel' is not defined"
     ]
    }
   ],
   "source": [
    "quotes = []\n",
    "for _, text in df.iterrows():\n",
    "    quote = QuoteModel('body', 'author')\n",
    "    quotes.append(quote)"
   ]
  },
  {
   "cell_type": "markdown",
   "id": "ddf32dda-4384-4baf-bbf4-2d2aa6e62c68",
   "metadata": {},
   "source": [
    " "
   ]
  },
  {
   "cell_type": "markdown",
   "id": "a2f2e874-c9cd-4bd3-a41b-9bc76f0a71fb",
   "metadata": {},
   "source": [
    " "
   ]
  },
  {
   "cell_type": "code",
   "execution_count": 7,
   "id": "16a2b078-d4fb-4ae3-8e42-98232a4796c8",
   "metadata": {},
   "outputs": [
    {
     "data": {
      "text/plain": [
       "body      Chase the mailman\n",
       "author              Skittle\n",
       "Name: 0, dtype: object"
      ]
     },
     "execution_count": 7,
     "metadata": {},
     "output_type": "execute_result"
    }
   ],
   "source": [
    "text"
   ]
  },
  {
   "cell_type": "markdown",
   "id": "546275e9-97ab-4416-89ee-0e71a4bfe13a",
   "metadata": {},
   "source": [
    " "
   ]
  },
  {
   "cell_type": "markdown",
   "id": "355ad839-57ad-4198-a5d4-a8774c2dec3b",
   "metadata": {},
   "source": [
    " "
   ]
  },
  {
   "cell_type": "markdown",
   "id": "3ba8207b-f4df-49ad-af37-e487268d8304",
   "metadata": {},
   "source": [
    " "
   ]
  },
  {
   "cell_type": "markdown",
   "id": "9b0908fa-397e-478e-88dc-de367c8a540d",
   "metadata": {},
   "source": [
    " "
   ]
  },
  {
   "cell_type": "markdown",
   "id": "b9bf388d-2cf8-4c2c-b016-f7c80e40c893",
   "metadata": {},
   "source": [
    " "
   ]
  },
  {
   "cell_type": "markdown",
   "id": "610f6e63-a2c4-4560-977c-e85d46e7171f",
   "metadata": {},
   "source": [
    " "
   ]
  },
  {
   "cell_type": "markdown",
   "id": "97296c6e-ae0b-4aea-85a2-4c052d188c61",
   "metadata": {},
   "source": [
    " "
   ]
  },
  {
   "cell_type": "markdown",
   "id": "e2a20b1c-6e2f-41e2-bff3-22dc3038a971",
   "metadata": {},
   "source": [
    " "
   ]
  },
  {
   "cell_type": "markdown",
   "id": "66056273-1ed9-406d-b516-4d1e0f38a0df",
   "metadata": {},
   "source": [
    " "
   ]
  },
  {
   "cell_type": "markdown",
   "id": "12294126-f07a-49f7-86f3-6fce4bdb5492",
   "metadata": {},
   "source": [
    " "
   ]
  },
  {
   "cell_type": "markdown",
   "id": "09c00075-414d-4329-876a-794d797cf23f",
   "metadata": {},
   "source": [
    " "
   ]
  },
  {
   "cell_type": "markdown",
   "id": "bd9ed8c5-9d64-4cb4-bc16-b0110b0c59be",
   "metadata": {},
   "source": [
    " "
   ]
  },
  {
   "cell_type": "markdown",
   "id": "c164c00d-c974-4e9f-b935-015aaf34c30b",
   "metadata": {},
   "source": [
    " "
   ]
  },
  {
   "cell_type": "markdown",
   "id": "8983f621-f1a1-4b45-ac61-3d9c3c0c4e04",
   "metadata": {},
   "source": [
    " "
   ]
  },
  {
   "cell_type": "markdown",
   "id": "3194908e-dc04-4ef5-a932-b1cd6c68855f",
   "metadata": {},
   "source": [
    " "
   ]
  },
  {
   "cell_type": "markdown",
   "id": "96bbf5d9-125f-4dce-a47b-f73d1ba9e9bb",
   "metadata": {},
   "source": [
    " "
   ]
  },
  {
   "cell_type": "markdown",
   "id": "012db1b6-5ea8-4884-8351-755f8387432f",
   "metadata": {},
   "source": [
    " "
   ]
  },
  {
   "cell_type": "markdown",
   "id": "0b946e73-3a17-470a-8888-af48e8785227",
   "metadata": {},
   "source": [
    " "
   ]
  },
  {
   "cell_type": "markdown",
   "id": "668a7633-480a-41ec-8285-0bb0b5aa4c76",
   "metadata": {},
   "source": [
    " "
   ]
  },
  {
   "cell_type": "markdown",
   "id": "159f3e4a-016e-475c-bffa-65dae66496aa",
   "metadata": {},
   "source": [
    " "
   ]
  },
  {
   "cell_type": "markdown",
   "id": "0ae18216-9b79-4069-9b9c-8c094c3189a2",
   "metadata": {},
   "source": [
    " "
   ]
  },
  {
   "cell_type": "markdown",
   "id": "2a713038-55a1-4bd3-aae4-649b8816fec9",
   "metadata": {},
   "source": [
    " "
   ]
  },
  {
   "cell_type": "markdown",
   "id": "05ae33d7-8924-466e-be5e-7cecc3d9a2cd",
   "metadata": {},
   "source": [
    " "
   ]
  },
  {
   "cell_type": "markdown",
   "id": "f3e43f45-1bc6-4187-855c-4fc779237162",
   "metadata": {},
   "source": [
    " "
   ]
  },
  {
   "cell_type": "markdown",
   "id": "919def31-5082-45f7-b694-69dacfef1a7e",
   "metadata": {},
   "source": [
    " "
   ]
  },
  {
   "cell_type": "markdown",
   "id": "bfa0d30f-578b-43af-9855-ffabe6f5ce4f",
   "metadata": {},
   "source": [
    " "
   ]
  },
  {
   "cell_type": "markdown",
   "id": "2964d993-0450-474d-a519-acf6e7c42f4f",
   "metadata": {},
   "source": [
    " "
   ]
  },
  {
   "cell_type": "markdown",
   "id": "e3780e21-edf7-4b5f-bf68-a5e7c483a248",
   "metadata": {},
   "source": [
    " "
   ]
  },
  {
   "cell_type": "markdown",
   "id": "d9ca7e1f-5504-432e-9927-0b0250be1968",
   "metadata": {},
   "source": [
    " "
   ]
  },
  {
   "cell_type": "markdown",
   "id": "66434b23-8733-40d8-a98d-881973effb42",
   "metadata": {},
   "source": [
    " "
   ]
  },
  {
   "cell_type": "markdown",
   "id": "25e08887-42d5-4c36-a885-376b10f88344",
   "metadata": {},
   "source": [
    " "
   ]
  },
  {
   "cell_type": "markdown",
   "id": "65f8f383-25c6-4d34-927a-7b3cef7ee20d",
   "metadata": {},
   "source": [
    " "
   ]
  },
  {
   "cell_type": "markdown",
   "id": "8948338f-0382-4dde-b399-47ebe8131eec",
   "metadata": {},
   "source": [
    " "
   ]
  },
  {
   "cell_type": "markdown",
   "id": "4cd03ffc-bb83-4814-9a79-4eba5bb4e3bb",
   "metadata": {},
   "source": [
    " "
   ]
  },
  {
   "cell_type": "markdown",
   "id": "d8157963-a50e-4d71-a418-bbb45cfabbcf",
   "metadata": {},
   "source": [
    " "
   ]
  },
  {
   "cell_type": "markdown",
   "id": "ff10cfdd-7e0d-4f90-aa4f-6cde9e878857",
   "metadata": {},
   "source": [
    " "
   ]
  },
  {
   "cell_type": "markdown",
   "id": "3237dba8-70d1-4a39-a648-867e27cbc20d",
   "metadata": {},
   "source": [
    " "
   ]
  },
  {
   "cell_type": "markdown",
   "id": "510dc8be-3734-45c8-b46c-3d40ef7ede07",
   "metadata": {},
   "source": [
    " "
   ]
  },
  {
   "cell_type": "markdown",
   "id": "226b8b15-5f6c-4c46-993f-a1f636b814f3",
   "metadata": {},
   "source": [
    " "
   ]
  }
 ],
 "metadata": {
  "kernelspec": {
   "display_name": "projects",
   "language": "python",
   "name": "projects"
  },
  "language_info": {
   "codemirror_mode": {
    "name": "ipython",
    "version": 3
   },
   "file_extension": ".py",
   "mimetype": "text/x-python",
   "name": "python",
   "nbconvert_exporter": "python",
   "pygments_lexer": "ipython3",
   "version": "3.11.7"
  }
 },
 "nbformat": 4,
 "nbformat_minor": 5
}
